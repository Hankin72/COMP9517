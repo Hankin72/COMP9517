{
 "cells": [
  {
   "cell_type": "code",
   "execution_count": 4,
   "metadata": {},
   "outputs": [],
   "source": [
    "import numpy as np\n",
    "from scipy.cluster.vq import vq, kmeans, whiten\n",
    "import matplotlib.pyplot as plt\n",
    "\n",
    "features = np.array([[1.9,2.0],\n",
    "                     [1.7,2.5],\n",
    "                     [1.6,3.1],\n",
    "                     [0.1,0.1],\n",
    "                     [0.8,0.3],\n",
    "                     [0.4,0.3],\n",
    "                     [0.22,0.1],\n",
    "                     [0.4, 0.3],\n",
    "                     [0.4,0.5],\n",
    "                     [1.8,1.9]])\n"
   ]
  },
  {
   "cell_type": "code",
   "execution_count": 8,
   "metadata": {},
   "outputs": [
    {
     "name": "stdout",
     "output_type": "stream",
     "text": [
      "whiten features: \n",
      " [[2.74465616 1.84987046]\n",
      " [2.45574499 2.31233807]\n",
      " [2.3112894  2.86729921]\n",
      " [0.14445559 0.09249352]\n",
      " [1.1556447  0.27748057]\n",
      " [0.57782235 0.27748057]\n",
      " [0.31780229 0.09249352]\n",
      " [0.57782235 0.27748057]\n",
      " [0.57782235 0.46246761]\n",
      " [2.60020058 1.75737693]]\n",
      "\n",
      "[[2.74465616 1.84987046]\n",
      " [2.45574499 2.31233807]]\n"
     ]
    }
   ],
   "source": [
    "wf = whiten(features)\n",
    "print(\"whiten features: \\n\", wf)\n",
    "\n",
    "book = np.array((wf[0], wf[1]))\n",
    "\n",
    "codebook, distortion = kmeans(wf, book)\n",
    "# 可以写kmeans(wf,2)， 2表示两个质心，同时启用iter参数\n",
    "print()\n",
    "print(book)\n"
   ]
  },
  {
   "cell_type": "code",
   "execution_count": 10,
   "metadata": {},
   "outputs": [
    {
     "name": "stdout",
     "output_type": "stream",
     "text": [
      "codebook: [[0.55856161 0.24664939]\n",
      " [2.52797278 2.19672117]]\n",
      "distortion:  0.3310265521429504\n"
     ]
    }
   ],
   "source": [
    "print(\"codebook:\", codebook)\n",
    "print(\"distortion: \", distortion)\n",
    "\n",
    "\n"
   ]
  },
  {
   "cell_type": "code",
   "execution_count": 11,
   "metadata": {},
   "outputs": [
    {
     "data": {
      "image/png": "[encoded data removed]",
      "text/plain": [
       "<Figure size 432x288 with 1 Axes>"
      ]
     },
     "metadata": {
      "needs_background": "light"
     },
     "output_type": "display_data"
    }
   ],
   "source": [
    "plt.scatter(wf[:,0], wf[:,1])\n",
    "plt.scatter(codebook[:, 0], codebook[:, 1], c='r')\n",
    "plt.show()"
   ]
  },
  {
   "cell_type": "code",
   "execution_count": 12,
   "metadata": {},
   "outputs": [
    {
     "data": {
      "text/plain": [
       "(array([[2.45121811, 3.03653641],\n",
       "        [0.98872663, 1.31944737]]),\n",
       " 0.9088234961964715)"
      ]
     },
     "execution_count": 12,
     "metadata": {},
     "output_type": "execute_result"
    }
   ],
   "source": [
    "from numpy import array\n",
    "from scipy.cluster.vq import vq, kmeans, whiten\n",
    "import matplotlib.pyplot as plt\n",
    "features  = array([[ 1.9,2.3],\n",
    "                    [ 1.5,2.5],\n",
    "                   [ 0.8,0.6],\n",
    "                  [ 0.4,1.8],\n",
    "                   [ 0.1,0.1],\n",
    "                    [ 0.2,1.8],\n",
    "                   [ 2.0,0.5],\n",
    "                   [ 0.3,1.5],\n",
    "                   [ 1.0,1.0]])\n",
    "whitened = whiten(features)\n",
    "book = np.array((whitened[0],whitened[2]))\n",
    "\n",
    "\n",
    "kmeans(whitened,book)\n"
   ]
  },
  {
   "cell_type": "code",
   "execution_count": 14,
   "metadata": {},
   "outputs": [
    {
     "data": {
      "text/plain": [
       "array([[2.73959671, 2.91001406],\n",
       "       [1.15351441, 0.7591341 ]])"
      ]
     },
     "execution_count": 14,
     "metadata": {},
     "output_type": "execute_result"
    }
   ],
   "source": [
    "book"
   ]
  },
  {
   "cell_type": "code",
   "execution_count": null,
   "metadata": {},
   "outputs": [],
   "source": []
  }
 ],
 "metadata": {
  "kernelspec": {
   "display_name": "Python 3",
   "language": "python",
   "name": "python3"
  },
  "language_info": {
   "codemirror_mode": {
    "name": "ipython",
    "version": 3
   },
   "file_extension": ".py",
   "mimetype": "text/x-python",
   "name": "python",
   "nbconvert_exporter": "python",
   "pygments_lexer": "ipython3",
   "version": "3.7.9"
  }
 },
 "nbformat": 4,
 "nbformat_minor": 4
}
